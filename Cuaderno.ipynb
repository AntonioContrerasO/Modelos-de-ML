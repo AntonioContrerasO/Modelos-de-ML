{
 "cells": [
  {
   "cell_type": "markdown",
   "id": "c7ff1f45",
   "metadata": {},
   "source": [
    "# Modelos de entranamiento\n",
    "\n",
    "En este cuaderno se expondrá algunos modelos, como se realiza su entrenamiento y nociones basicas de machine learning, esto con el fin de saber seleccionar un modelo adecuado para cada situación, además de que conocer sobre dichos modelos ayuda a solucionar problemas que puedan presentarse durante el entrenamiento.\n",
    "\n",
    "Muchos de estos modelos se encuentran implementados en **scklearn**, por lo que cuando se busque realiar un modelo no es necesario implementar desde cero los modelos\n"
   ]
  },
  {
   "cell_type": "markdown",
   "id": "9b716385",
   "metadata": {},
   "source": [
    "# Regresión lineal\n",
    "\n",
    "Este modelo del machine learning realiza prediciones simplemente mediante el producto punto del vector de los pesos($\\overrightarrow{\\theta}$) por los atributos($\\overrightarrow{x}$) así como se muestra en la siguiente ecuación\n",
    "\n",
    "$$ \\hat{y} = \\theta_0 + \\theta_1 x_1 + ... + \\theta_{n-1} x_{n-1} + \\theta_n x_n $$\n",
    "\n",
    "- $\\hat{y}$ es la predicción.\n",
    "- $n$ es el numero de atributos.\n",
    "- $x_i$ es el i-enesimo atributo.\n",
    "- $\\theta_i$ es el i-enesimo peso donde $\\theta_0$ es el termino constante, y los demas son los pesos de cada atributo, es decir, que tanto aporta a nuestra predicción dicho atributo.\n",
    "\n",
    "Todos los modelos de machine learning utilizan funciones conocidas como **funciones de costo** que indican que tan bien o mal está realizando su trabajo el modelo, que dependiendo del tipo de modelo existen varias funciones de costo que pueden utilizarse para este fin, especificamente en regresión lineal se utiliza el **MAE**, el **RMSE** y el **MSE**, aunque debido a que ambas llevan al mismo resultado se prefiere el MSE, ya que resulta más fácil de *minimizar*.\n",
    "\n",
    "$$MSE(\\theta)=\\frac{1}{m}\\sum_{i=1}^{m}(\\theta x^{(i)}-y^{(i)})^{2}$$\n",
    "\n",
    "el vector $x^{(i)}$ se ve de la siguiente manera, sin embargo hay que considerar que no necesariamente debe tener 4 entradas\n",
    "\n",
    "$$ x^{(i)} = \\; \n",
    "\\begin{bmatrix}\n",
    "      -118.23 \\\\\n",
    "      33.91 \\\\\n",
    "      1.31 \\\\\n",
    "      38.37\n",
    "\\end{bmatrix} \n",
    "$$\n",
    "\n",
    "**Nota:** Con minimizar se refiere a obtener el menor valor posible de dicha función, o desde la vista del calculo encontrar el minimo de la función."
   ]
  },
  {
   "cell_type": "markdown",
   "id": "bdb960c5",
   "metadata": {},
   "source": [
    "# Ecuación normal\n",
    "\n",
    "Algunos algoritmos de machine learning cuentan con ecuaciones las cuales permiten encontrar el valor de $\\theta$ que minimiza la funcion de costo y da el resultado de manera directa, en el caso de regresión lineal esta ecuación se conoce como **ecuación normal**\n",
    "\n",
    "$$\\hat{\\theta} = (X^{T} X) X^{T} y $$\n",
    "\n",
    "A continuación se muestra su implementación en python, en este caso se crearon datos lineales aleatorios, sin embargo en los problemas de la vida real no todos los sistemas podrán ser estudiados mediante modelos lineales, si se tienen dudas sobre que la relación de los datos sean lineales, se puede utilizr el coeficiente de correlación de **Bravais-Person**, o en caso de no ser lineal, pero se desea saber si ambas variables tienen alguna relación el coeficiente de **Spearman**"
   ]
  },
  {
   "cell_type": "code",
   "execution_count": 1,
   "id": "71261dab",
   "metadata": {},
   "outputs": [],
   "source": [
    "import numpy as np\n",
    "import matplotlib.pyplot as plt\n",
    "\n",
    "np.random.seed(42)\n",
    "\n",
    "X = 2*np.random.rand(100,1)\n",
    "y = 4 + 3*X +np.random.rand(100,1)"
   ]
  },
  {
   "cell_type": "markdown",
   "id": "a8a20683",
   "metadata": {},
   "source": [
    "Primero se crearon algunos dato lineales con algo de ruido, y en la siguiente celda se realizo un grafico de dichos datos"
   ]
  },
  {
   "cell_type": "code",
   "execution_count": 2,
   "id": "84bdaa94",
   "metadata": {
    "scrolled": false
   },
   "outputs": [
    {
     "data": {
      "image/png": "[encoded data removed]",
      "text/plain": [
       "<Figure size 432x288 with 1 Axes>"
      ]
     },
     "metadata": {
      "needs_background": "light"
     },
     "output_type": "display_data"
    }
   ],
   "source": [
    "plt.scatter(X,y,s=4)\n",
    "plt.show()"
   ]
  },
  {
   "cell_type": "markdown",
   "id": "5cbf21be",
   "metadata": {},
   "source": [
    "Antes de utilzar la ecuación se necesita agregar una columna de unos del mismo largo de instacncias en X, esto se realizar en la primera línea de codigo del siguiente bloque, esto es así ya que esta ecuación proviene del problema de minimos cuadrados, donde se tienen ecuaciones del siguiente estilo\n",
    "\n",
    "$$  y = \\theta_0 + \\theta_1 x_1  $$\n",
    "\n",
    "Utilizando los valores de $y$ y $x$, provenientes del vector de soluciones y de atributos respectivamente. Por ejemplo digamos que tenemos un atributo y 3 instancias, siendo las instancias de la forma  $(x,y)$ estas son $(1,5)$, $(2,3)$,$(3,7)$, entonces se obtienen las siguientes 3 ecuaciones  \n",
    "\n",
    "$$ \\theta_0 + \\theta_1 = 5   $$\n",
    "$$ \\theta_0 + 2\\theta_1 = 3   $$\n",
    "$$ \\theta_0 + 3\\theta_1 = 7  $$\n",
    "\n",
    "Si observamos detenidamente los valores que multiplican a $\\theta_0$ son 1 para todos los casos, por lo que como se menciono se debe agregar como se hace en la primer linea, para que pueda funcionar correctamente el algoritmo"
   ]
  },
  {
   "cell_type": "code",
   "execution_count": 3,
   "id": "275c5182",
   "metadata": {},
   "outputs": [],
   "source": [
    "X_b = np.c_[np.ones((100,1)),X]\n",
    "theta_best = np.linalg.inv(X_b.T.dot(X_b)).dot(X_b.T).dot(y)"
   ]
  },
  {
   "cell_type": "markdown",
   "id": "bb977002",
   "metadata": {},
   "source": [
    "#### Valores que minimizan la función de costo\n",
    "\n",
    "Los valores del $\\vec{\\theta}$ se encuentran ordenados de manera ascendente así como se muestra a continuación\n",
    "\n",
    "$$ \\theta = \\; \n",
    "\\begin{bmatrix}\n",
    "      \\theta_0 \\\\\n",
    "      \\theta_1 \n",
    "\\end{bmatrix} \n",
    "$$\n"
   ]
  },
  {
   "cell_type": "code",
   "execution_count": 4,
   "id": "b1c4b6ef",
   "metadata": {
    "scrolled": true
   },
   "outputs": [
    {
     "data": {
      "text/plain": [
       "(4.513597656401037, 2.9832341780601856)"
      ]
     },
     "execution_count": 4,
     "metadata": {},
     "output_type": "execute_result"
    }
   ],
   "source": [
    "theta0 = theta_best[0,0]\n",
    "theta1 = theta_best[1,0]\n",
    "theta0,theta1"
   ]
  },
  {
   "cell_type": "markdown",
   "id": "982e7a91",
   "metadata": {},
   "source": [
    "En la siguiente celda se realizan predicciones con el modelo entrenado, existen dos formas de hacer predicciones\n",
    "\n",
    "1. Escribiendo la ecuación con los valores de $\\vec{\\theta}$, aunque está opción resulta menos viable si el $\\vec{\\theta}$ tiene gran extension"
   ]
  },
  {
   "cell_type": "code",
   "execution_count": 5,
   "id": "0409705e",
   "metadata": {},
   "outputs": [
    {
     "data": {
      "text/plain": [
       "array([[ 4.51359766],\n",
       "       [10.48006601]])"
      ]
     },
     "execution_count": 5,
     "metadata": {},
     "output_type": "execute_result"
    }
   ],
   "source": [
    "X_new = np.array([[0],[2]])\n",
    "y_preds_f = theta0 + theta1*X_new\n",
    "y_preds_f"
   ]
  },
  {
   "cell_type": "markdown",
   "id": "ea480193",
   "metadata": {},
   "source": [
    "2. Agregando una columna de 1s a los valores que se quieren predecir y realizar producto punto entre el vector $\\vec{x}$ y $\\vec{\\theta}$"
   ]
  },
  {
   "cell_type": "code",
   "execution_count": 6,
   "id": "83aef0ba",
   "metadata": {},
   "outputs": [
    {
     "data": {
      "text/plain": [
       "array([[ 4.51359766],\n",
       "       [10.48006601]])"
      ]
     },
     "execution_count": 6,
     "metadata": {},
     "output_type": "execute_result"
    }
   ],
   "source": [
    "X_new_b = np.c_[np.ones((2,1)),X_new]\n",
    "y_predict = X_new_b.dot(theta_best)\n",
    "y_predict"
   ]
  },
  {
   "cell_type": "markdown",
   "id": "015d6d86",
   "metadata": {},
   "source": [
    "Con el modelo entrenado, podemos graficar las predicciones hechas por el mismo y observar si es un buen modelo"
   ]
  },
  {
   "cell_type": "code",
   "execution_count": 7,
   "id": "6562cbd8",
   "metadata": {
    "scrolled": true
   },
   "outputs": [
    {
     "data": {
      "image/png": "[encoded data removed]",
      "text/plain": [
       "<Figure size 432x288 with 1 Axes>"
      ]
     },
     "metadata": {
      "needs_background": "light"
     },
     "output_type": "display_data"
    }
   ],
   "source": [
    "plt.plot(X_new,y_predict,\"r-\")\n",
    "plt.plot(X,y,\"b.\")\n",
    "plt.title(\"Modelo de regresión lineal\")\n",
    "plt.axis([0,2,2,12])\n",
    "plt.xlabel(\"X\")\n",
    "plt.ylabel(\"y\")\n",
    "plt.show()"
   ]
  },
  {
   "cell_type": "markdown",
   "id": "f6887c86",
   "metadata": {},
   "source": [
    "# Implementación con sklearn\n",
    "\n",
    "Como se menciono sklearn es una libreria que tiene varios modelos y herramientas para machine learning, que resultan bastante simples de utilizar, para ello se debe importar el modelo y crear el objeto modelo, como se hace en la siguiente celda.\n",
    "\n",
    "LinearRegression utiliza otra ecuación para resolver el mismo problema, el cual se describe en la siguiente ecuación\n",
    "\n",
    "$$\\hat{\\theta} = X^+ y$$\n",
    "\n",
    "Donde X^+ se conoce como la pseudoinversa de X o la inversa de **Moore-Penrose** que por lo general es más eficiente que utilizar la ecuación normal directamente."
   ]
  },
  {
   "cell_type": "code",
   "execution_count": 8,
   "id": "dcb02af3",
   "metadata": {},
   "outputs": [],
   "source": [
    "from sklearn.linear_model import LinearRegression\n",
    "lin_reg = LinearRegression()"
   ]
  },
  {
   "cell_type": "markdown",
   "id": "b42b3396",
   "metadata": {},
   "source": [
    "Una vez creado el objeto modelo, se utiliza el metodo *fit()* para entrenar al mismo, *predict()* para realizar predicciones."
   ]
  },
  {
   "cell_type": "code",
   "execution_count": 9,
   "id": "b1dbbb0c",
   "metadata": {},
   "outputs": [
    {
     "data": {
      "text/plain": [
       "array([[ 4.51359766],\n",
       "       [10.48006601]])"
      ]
     },
     "execution_count": 9,
     "metadata": {},
     "output_type": "execute_result"
    }
   ],
   "source": [
    "lin_reg.fit(X,y)\n",
    "lin_reg.predict(X_new)"
   ]
  },
  {
   "cell_type": "markdown",
   "id": "578f7731",
   "metadata": {},
   "source": [
    "Una de las desventajas de estos modelos es que tanto la ecuación normal como la pseudoinversa de Moore-Penrose es que ambos algoritmos se vuelven bastante lentos al aumentar el numero de atributos"
   ]
  },
  {
   "cell_type": "markdown",
   "id": "a2b82f45",
   "metadata": {},
   "source": [
    "# Gradiente descendiente\n",
    "\n",
    "Es un algoritmo iterativo de optimización el cual es ampliamente utilizado, este se basa en que el $\\vec{\\theta}$ se inicializa en valores aleatorios, estos se iran modificando gradualemente de manera que decresca progresivamente el valor de la función de costo, hasta que llegue a su minimo global o uno local, el hyperparametro relacionado con este algoritmo es $\\eta$ conocido como radio de aprendizaje, el cual determina que tan rapido converge hacia dicho minimo, no obstante selecionar valores grandes de $\\eta$ puede hacer que nunca converga hacia dicho minimo, por lo que debe buscarse un valor optimo para cada problema y modelo."
   ]
  },
  {
   "cell_type": "markdown",
   "id": "62400214",
   "metadata": {},
   "source": [
    "<img src=\"data:image/png;base64,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\"\n",
    "     width=\"500\" \n",
    "     height=\"600\"/>"
   ]
  },
  {
   "cell_type": "markdown",
   "id": "6f78ca61",
   "metadata": {},
   "source": [
    "Como se menciono no todas las funciones de costo tienen solo un minimo, existe minimos locales y globales, por lo que puede que nuestro algotimo converga a alguno de ellos, en el caso de regresión lineal solo hay un minimo y es global.\n",
    "\n",
    "<img  src=\"https://upload.wikimedia.org/wikipedia/commons/thumb/b/b6/Extrema_example_es.svg/1200px-Extrema_example_es.svg.png\" />"
   ]
  },
  {
   "cell_type": "markdown",
   "id": "48775b5e",
   "metadata": {},
   "source": [
    "## Gradiente descendiente batch(GDB)\n",
    "\n",
    "Para calcular el siguiente valor del $\\vec{\\theta}$ es necesario tener el gradiente de la función de costo, el cual nos indica que tanto cambiaría dicha función si cambiamos los valores de $\\vec{\\theta}$ ligeramente\n",
    "\n",
    "$$\\frac{\\partial}{\\partial \\theta_j} MSE(\\theta)=\\frac{2}{m}\\sum_{i=1}^{m}(\\theta x^{(i)}-y^{(i)})x^{(i)}_j $$\n",
    "\n",
    "El vector gradiente $\\nabla_{\\theta} MSE(\\theta)$ contiene todas las derivadas parciales de la función de costo\n",
    "\n",
    "$$ \\nabla_{\\theta} MSE(\\theta) = \\frac{2}{m} X^{T}(X\\theta - y) $$\n",
    "\n",
    "Para modificar el valor de $\\vec{\\theta}$ se utiliza la siguiente ecuación\n",
    "\n",
    "$$ \\theta^{(nuevo)} = \\theta - \\eta\\nabla_{\\theta} MSE(\\theta)$$\n",
    "\n",
    "A continuación su implementación con varios valores de $\\eta$\n",
    "\n",
    "**Nota:** Se recomienda estandarizar los atributos, ya que el algoritmo suele converger más lento si no se encuentra escalado."
   ]
  },
  {
   "cell_type": "code",
   "execution_count": 10,
   "id": "7f3d15fa",
   "metadata": {},
   "outputs": [
    {
     "name": "stdout",
     "output_type": "stream",
     "text": [
      "0\n",
      "MSE: 22.286637698288636\n",
      "Valores de theta: \n",
      "\n",
      "[[0.87608297]\n",
      " [1.88837906]] \n",
      "\n",
      "400\n",
      "MSE: 0.08495655256662145\n",
      "Valores de theta: \n",
      "\n",
      "[[4.51359615]\n",
      " [2.98323551]] \n",
      "\n",
      "800\n",
      "MSE: 0.08495655256593737\n",
      "Valores de theta: \n",
      "\n",
      "[[4.51359766]\n",
      " [2.98323418]] \n",
      "\n"
     ]
    },
    {
     "data": {
      "image/png": "[encoded data removed]",
      "text/plain": [
       "<Figure size 1440x720 with 1 Axes>"
      ]
     },
     "metadata": {
      "needs_background": "light"
     },
     "output_type": "display_data"
    }
   ],
   "source": [
    "from sklearn.metrics import mean_squared_error\n",
    "\n",
    "eta = 0.1 #learning rate\n",
    "n_iteration = 1000\n",
    "m = 100\n",
    "\n",
    "theta = np.random.randn(2,1)\n",
    "\n",
    "y_preds_plot = []\n",
    "\n",
    "for iteration in range(n_iteration):\n",
    "    gradients = 2/m * X_b.T.dot(X_b.dot(theta) - y)\n",
    "    theta = theta - eta*gradients\n",
    "    \n",
    "    X_new = np.c_[np.ones((len(X),1)),X]\n",
    "    y_predicts = X_new.dot(theta)\n",
    "    y_preds_plot.append(y_predicts)\n",
    "    \n",
    "    if iteration % 400 == 0:\n",
    "        print(iteration)\n",
    "        print(f\"MSE: {mean_squared_error(y,y_predicts)}\")\n",
    "        print(f\"Valores de theta: \\n\")\n",
    "        print(f\"{theta} \\n\")\n",
    "\n",
    "plt.figure(figsize=(20,10))\n",
    "for i in range(0,20):\n",
    "    if i == 0:\n",
    "        plt.plot(X,y_preds_plot[i],label=\"Modelo inical\")\n",
    "    else:\n",
    "        if i == 19:\n",
    "            plt.plot(X,y_preds_plot[i],\"y-\",label=\"Modelos intermedios\")\n",
    "        else:\n",
    "            plt.plot(X,y_preds_plot[i],\"y-\")\n",
    "plt.plot(X,y,\"b.\")\n",
    "plt.plot(X,y_preds_plot[200],\"r-\",label=\"Mejor Modelo\")\n",
    "leg = plt.legend(loc='upper center')\n",
    "plt.title(\"Modelo de regresión lineal\")\n",
    "plt.axis([0,2,2,12])\n",
    "plt.xlabel(\"X\")\n",
    "plt.ylabel(\"y\")\n",
    "plt.show()     \n"
   ]
  },
  {
   "cell_type": "code",
   "execution_count": 11,
   "id": "42555117",
   "metadata": {},
   "outputs": [
    {
     "name": "stdout",
     "output_type": "stream",
     "text": [
      "0\n",
      "MSE: 3.8090466936005174\n",
      "Valores de theta: \n",
      "\n",
      "[[4.91162784]\n",
      " [4.40627324]] \n",
      "\n",
      "400\n",
      "MSE: 0.08495655256593737\n",
      "Valores de theta: \n",
      "\n",
      "[[4.51359766]\n",
      " [2.98323418]] \n",
      "\n",
      "800\n",
      "MSE: 0.08495655256593737\n",
      "Valores de theta: \n",
      "\n",
      "[[4.51359766]\n",
      " [2.98323418]] \n",
      "\n"
     ]
    },
    {
     "data": {
      "image/png": "[encoded data removed]",
      "text/plain": [
       "<Figure size 1440x720 with 1 Axes>"
      ]
     },
     "metadata": {
      "needs_background": "light"
     },
     "output_type": "display_data"
    }
   ],
   "source": [
    "from sklearn.metrics import mean_squared_error\n",
    "\n",
    "eta = 0.3 #learning rate\n",
    "n_iteration = 1000\n",
    "m = 100\n",
    "\n",
    "theta = np.random.randn(2,1)\n",
    "\n",
    "y_preds_plot = []\n",
    "\n",
    "for iteration in range(n_iteration):\n",
    "    gradients = 2/m * X_b.T.dot(X_b.dot(theta) - y)\n",
    "    theta = theta - eta*gradients\n",
    "    \n",
    "    X_new = np.c_[np.ones((len(X),1)),X]\n",
    "    y_predicts = X_new.dot(theta)\n",
    "    y_preds_plot.append(y_predicts)\n",
    "    \n",
    "    if iteration % 400 == 0:\n",
    "        print(iteration)\n",
    "        print(f\"MSE: {mean_squared_error(y,y_predicts)}\")\n",
    "        print(f\"Valores de theta: \\n\")\n",
    "        print(f\"{theta} \\n\")\n",
    "\n",
    "plt.figure(figsize=(20,10))\n",
    "for i in range(0,20):\n",
    "    if i == 0:\n",
    "        plt.plot(X,y_preds_plot[i],label=\"Modelo inical\")\n",
    "    else:\n",
    "        if i == 19:\n",
    "            plt.plot(X,y_preds_plot[i],\"y-\",label=\"Modelos intermedios\")\n",
    "        else:\n",
    "            plt.plot(X,y_preds_plot[i],\"y-\")\n",
    "plt.plot(X,y,\"b.\")\n",
    "plt.plot(X,y_preds_plot[200],\"r-\",label=\"Mejor Modelo\")\n",
    "leg = plt.legend(loc='upper center')\n",
    "plt.title(\"Modelo de regresión lineal\")\n",
    "plt.axis([0,2,2,12])\n",
    "plt.xlabel(\"X\")\n",
    "plt.ylabel(\"y\")\n",
    "plt.show()         \n"
   ]
  },
  {
   "cell_type": "code",
   "execution_count": 12,
   "id": "527b0df2",
   "metadata": {
    "scrolled": true
   },
   "outputs": [
    {
     "name": "stdout",
     "output_type": "stream",
     "text": [
      "0\n",
      "MSE: 31.023255396051194\n",
      "Valores de theta: \n",
      "\n",
      "[[6.87334195]\n",
      " [6.06220075]] \n",
      "\n",
      "400\n",
      "MSE: 2.3934044147025214e+23\n",
      "Valores de theta: \n",
      "\n",
      "[[2.25329854e+11]\n",
      " [2.55202408e+11]] \n",
      "\n",
      "800\n",
      "MSE: 1.85228638339644e+45\n",
      "Valores de theta: \n",
      "\n",
      "[[1.98227890e+22]\n",
      " [2.24507467e+22]] \n",
      "\n"
     ]
    },
    {
     "data": {
      "image/png": "[encoded data removed]",
      "text/plain": [
       "<Figure size 1440x720 with 1 Axes>"
      ]
     },
     "metadata": {
      "needs_background": "light"
     },
     "output_type": "display_data"
    }
   ],
   "source": [
    "from sklearn.metrics import mean_squared_error\n",
    "\n",
    "eta = 0.5 #learning rate\n",
    "n_iteration = 1000\n",
    "m = 100\n",
    "\n",
    "theta = np.random.randn(2,1)\n",
    "\n",
    "y_preds_plot = []\n",
    "\n",
    "for iteration in range(n_iteration):\n",
    "    gradients = 2/m * X_b.T.dot(X_b.dot(theta) - y)\n",
    "    theta = theta - eta*gradients\n",
    "    \n",
    "    X_new = np.c_[np.ones((len(X),1)),X]\n",
    "    y_predicts = X_new.dot(theta)\n",
    "    y_preds_plot.append(y_predicts)\n",
    "    \n",
    "    if iteration % 400 == 0:\n",
    "        print(iteration)\n",
    "        print(f\"MSE: {mean_squared_error(y,y_predicts)}\")\n",
    "        print(f\"Valores de theta: \\n\")\n",
    "        print(f\"{theta} \\n\")\n",
    "\n",
    "plt.figure(figsize=(20,10))\n",
    "for i in range(0,20):\n",
    "    if i == 0:\n",
    "        plt.plot(X,y_preds_plot[i],label=\"Modelo inical\")\n",
    "    else:\n",
    "        if i == 19:\n",
    "            plt.plot(X,y_preds_plot[i],\"y-\",label=\"Modelos intermedios\")\n",
    "        else:\n",
    "            plt.plot(X,y_preds_plot[i],\"y-\")\n",
    "plt.plot(X,y,\"b.\")\n",
    "plt.plot(X,y_preds_plot[200],\"r-\",label=\"Mejor Modelo\")\n",
    "leg = plt.legend(loc='upper center')\n",
    "plt.title(\"Modelo de regresión lineal\")\n",
    "plt.axis([0,2,2,12])\n",
    "plt.xlabel(\"X\")\n",
    "plt.ylabel(\"y\")\n",
    "plt.show()     "
   ]
  },
  {
   "cell_type": "markdown",
   "id": "a3452c8b",
   "metadata": {},
   "source": [
    "En las celdas anteriores se entrenaron 3 modelos con diferentes diferentes radios de aprendizaje, como se observo, los modelos con $\\eta = 0.1 $ y $\\eta = 0.3 $ convergen a un modelo que realiza buenas prediciones, sin embargo aquel con el $\\eta = 0.5 $ jamas converge a la solución optima, por ello es importante seleccionar un $\\eta$ apropiado"
   ]
  },
  {
   "cell_type": "markdown",
   "id": "53e69409",
   "metadata": {},
   "source": [
    "## Gradiente estocastico descendente(GSD)\n",
    "\n",
    "El problema más grande de **GBD** es, que utiliza el dataset completo en cada iteración del entrenamiento, lo que se traduce en mayor complejidad computacional, contrario a los que hace el gradiente estocastico, este calcula el gradiente sobre una sola instancia seleccionada de manera aleatoria, lo que hace posible entrenar algoritmos en datasets de mayor tamaño de manera sustancialmente más rápido que con batch, una de las gran diferencias entre estos dos alogirtmos **GDB** suele ir directamente hacia el minimo de la función, caso contrario con **GSD** que brinca de una manera más aleatoria hacia el minimo, además de que jamás llega como tal al mismo, por tanto con **GSD** se llegará a un algoritmo optimo, pero no el mejor\n",
    "\n",
    "<img src=\"https://www.researchgate.net/publication/328106221/figure/fig3/AS:678422925807621@1538760038610/Stochastic-gradient-descent-compared-with-gradient-descent.png\" />\n",
    "\n",
    "Otra ventaja de **GSD** es, que si la función de costo es irregular, es decir, no cuenta solo con un minimo, **GSD** puede escapar de dichos minimos, además de que tiene mayor probabilidad de encontrar el minimo global, dicha aleatoridad es buena para escapar de los minimos locales, sin embargo es mala en el aspecto de que nunca se mantendrá en un minimo, por convencion se realizan rondas de m iteraciones, a cada ronda se le conoce como **epoch**\n",
    "\n",
    "Una solución es reducir gradualmente la tasa de aprendizaje, esto se demuestra en la siguiente implementación"
   ]
  },
  {
   "cell_type": "code",
   "execution_count": 13,
   "id": "374cd404",
   "metadata": {},
   "outputs": [],
   "source": [
    "eta = 0.1\n",
    "n_epochs = 50\n",
    "t0,t1 = 5,50\n",
    "\n",
    "theta = np.random.randn(2,1)\n",
    "\n",
    "def learning_schedule(t):\n",
    "    return t0/(t+t1)\n",
    "\n",
    "for epoch in range(n_epochs):\n",
    "    for i in range(m):\n",
    "        random_index = np.random.randint(m)\n",
    "        xi = X_b[random_index:random_index+1]\n",
    "        yi = y[random_index:random_index+1]\n",
    "        gradients = 2*xi.T.dot(xi.dot(theta)-yi)\n",
    "        eta = learning_schedule(epoch * m * i)\n",
    "        theta = theta - eta*gradients\n"
   ]
  },
  {
   "cell_type": "markdown",
   "id": "5d031832",
   "metadata": {},
   "source": [
    "Como se observa no se obtuvo la misma solución que el **GBD**, sin embargo la carga computacional es minima."
   ]
  },
  {
   "cell_type": "code",
   "execution_count": 14,
   "id": "e99d813a",
   "metadata": {
    "scrolled": false
   },
   "outputs": [
    {
     "data": {
      "text/plain": [
       "array([[4.44653396],\n",
       "       [3.15185443]])"
      ]
     },
     "execution_count": 14,
     "metadata": {},
     "output_type": "execute_result"
    }
   ],
   "source": [
    "theta"
   ]
  },
  {
   "cell_type": "markdown",
   "id": "8e790ec9",
   "metadata": {},
   "source": [
    "En **sklearn** se puede implementar algoritmos de este estilo con bastante facilidad, así como se muestra a continuación, como se observa se indica el numero de iteraciones y una toleracia la cual indica al algoritmo cuando debe parar, ademas eta0 es la tasa de aprendizaje"
   ]
  },
  {
   "cell_type": "code",
   "execution_count": 15,
   "id": "13398be2",
   "metadata": {},
   "outputs": [
    {
     "name": "stderr",
     "output_type": "stream",
     "text": [
      "C:\\Users\\anton\\ML_PATH\\my_env\\lib\\site-packages\\sklearn\\utils\\validation.py:1111: DataConversionWarning: A column-vector y was passed when a 1d array was expected. Please change the shape of y to (n_samples, ), for example using ravel().\n",
      "  y = column_or_1d(y, warn=True)\n"
     ]
    },
    {
     "data": {
      "text/html": [
       "<style>#sk-container-id-1 {color: black;background-color: white;}#sk-container-id-1 pre{padding: 0;}#sk-container-id-1 div.sk-toggleable {background-color: white;}#sk-container-id-1 label.sk-toggleable__label {cursor: pointer;display: block;width: 100%;margin-bottom: 0;padding: 0.3em;box-sizing: border-box;text-align: center;}#sk-container-id-1 label.sk-toggleable__label-arrow:before {content: \"▸\";float: left;margin-right: 0.25em;color: #696969;}#sk-container-id-1 label.sk-toggleable__label-arrow:hover:before {color: black;}#sk-container-id-1 div.sk-estimator:hover label.sk-toggleable__label-arrow:before {color: black;}#sk-container-id-1 div.sk-toggleable__content {max-height: 0;max-width: 0;overflow: hidden;text-align: left;background-color: #f0f8ff;}#sk-container-id-1 div.sk-toggleable__content pre {margin: 0.2em;color: black;border-radius: 0.25em;background-color: #f0f8ff;}#sk-container-id-1 input.sk-toggleable__control:checked~div.sk-toggleable__content {max-height: 200px;max-width: 100%;overflow: auto;}#sk-container-id-1 input.sk-toggleable__control:checked~label.sk-toggleable__label-arrow:before {content: \"▾\";}#sk-container-id-1 div.sk-estimator input.sk-toggleable__control:checked~label.sk-toggleable__label {background-color: #d4ebff;}#sk-container-id-1 div.sk-label input.sk-toggleable__control:checked~label.sk-toggleable__label {background-color: #d4ebff;}#sk-container-id-1 input.sk-hidden--visually {border: 0;clip: rect(1px 1px 1px 1px);clip: rect(1px, 1px, 1px, 1px);height: 1px;margin: -1px;overflow: hidden;padding: 0;position: absolute;width: 1px;}#sk-container-id-1 div.sk-estimator {font-family: monospace;background-color: #f0f8ff;border: 1px dotted black;border-radius: 0.25em;box-sizing: border-box;margin-bottom: 0.5em;}#sk-container-id-1 div.sk-estimator:hover {background-color: #d4ebff;}#sk-container-id-1 div.sk-parallel-item::after {content: \"\";width: 100%;border-bottom: 1px solid gray;flex-grow: 1;}#sk-container-id-1 div.sk-label:hover label.sk-toggleable__label {background-color: #d4ebff;}#sk-container-id-1 div.sk-serial::before {content: \"\";position: absolute;border-left: 1px solid gray;box-sizing: border-box;top: 0;bottom: 0;left: 50%;z-index: 0;}#sk-container-id-1 div.sk-serial {display: flex;flex-direction: column;align-items: center;background-color: white;padding-right: 0.2em;padding-left: 0.2em;position: relative;}#sk-container-id-1 div.sk-item {position: relative;z-index: 1;}#sk-container-id-1 div.sk-parallel {display: flex;align-items: stretch;justify-content: center;background-color: white;position: relative;}#sk-container-id-1 div.sk-item::before, #sk-container-id-1 div.sk-parallel-item::before {content: \"\";position: absolute;border-left: 1px solid gray;box-sizing: border-box;top: 0;bottom: 0;left: 50%;z-index: -1;}#sk-container-id-1 div.sk-parallel-item {display: flex;flex-direction: column;z-index: 1;position: relative;background-color: white;}#sk-container-id-1 div.sk-parallel-item:first-child::after {align-self: flex-end;width: 50%;}#sk-container-id-1 div.sk-parallel-item:last-child::after {align-self: flex-start;width: 50%;}#sk-container-id-1 div.sk-parallel-item:only-child::after {width: 0;}#sk-container-id-1 div.sk-dashed-wrapped {border: 1px dashed gray;margin: 0 0.4em 0.5em 0.4em;box-sizing: border-box;padding-bottom: 0.4em;background-color: white;}#sk-container-id-1 div.sk-label label {font-family: monospace;font-weight: bold;display: inline-block;line-height: 1.2em;}#sk-container-id-1 div.sk-label-container {text-align: center;}#sk-container-id-1 div.sk-container {/* jupyter's `normalize.less` sets `[hidden] { display: none; }` but bootstrap.min.css set `[hidden] { display: none !important; }` so we also need the `!important` here to be able to override the default hidden behavior on the sphinx rendered scikit-learn.org. See: https://github.com/scikit-learn/scikit-learn/issues/21755 */display: inline-block !important;position: relative;}#sk-container-id-1 div.sk-text-repr-fallback {display: none;}</style><div id=\"sk-container-id-1\" class=\"sk-top-container\"><div class=\"sk-text-repr-fallback\"><pre>SGDRegressor(eta0=0.1, penalty=None)</pre><b>In a Jupyter environment, please rerun this cell to show the HTML representation or trust the notebook. <br />On GitHub, the HTML representation is unable to render, please try loading this page with nbviewer.org.</b></div><div class=\"sk-container\" hidden><div class=\"sk-item\"><div class=\"sk-estimator sk-toggleable\"><input class=\"sk-toggleable__control sk-hidden--visually\" id=\"sk-estimator-id-1\" type=\"checkbox\" checked><label for=\"sk-estimator-id-1\" class=\"sk-toggleable__label sk-toggleable__label-arrow\">SGDRegressor</label><div class=\"sk-toggleable__content\"><pre>SGDRegressor(eta0=0.1, penalty=None)</pre></div></div></div></div></div>"
      ],
      "text/plain": [
       "SGDRegressor(eta0=0.1, penalty=None)"
      ]
     },
     "execution_count": 15,
     "metadata": {},
     "output_type": "execute_result"
    }
   ],
   "source": [
    "from sklearn.linear_model import SGDRegressor\n",
    "sdg_reg = SGDRegressor(max_iter=1000,tol=1e-3,penalty=None,eta0=0.1)\n",
    "sdg_reg.fit(X,y)"
   ]
  },
  {
   "cell_type": "code",
   "execution_count": 16,
   "id": "d6d59816",
   "metadata": {},
   "outputs": [
    {
     "data": {
      "text/plain": [
       "(array([4.47998525]), array([2.97671934]))"
      ]
     },
     "execution_count": 16,
     "metadata": {},
     "output_type": "execute_result"
    }
   ],
   "source": [
    "sdg_reg.intercept_,sdg_reg.coef_"
   ]
  },
  {
   "cell_type": "markdown",
   "id": "e2dc6f3c",
   "metadata": {},
   "source": [
    "## Gradiente Mini-batch descesdiente\n",
    "\n",
    "Es la otra tecnica de optimización que es bastante similar a **GSD** ya que la diferencia entre estos es que no solo toma una instancia para realizar al calculo del gradiente, sino que toma un grupo pequeño de instancias, su ventaja es que se comporta menos érratico."
   ]
  },
  {
   "cell_type": "markdown",
   "id": "23628ec8",
   "metadata": {},
   "source": [
    "# Regresión polinomica\n",
    "\n",
    "Este tipo de regresión se utiliza cuando la relación de nuestros datos es no lineal, para demostrar esto se puede usar varios tipos de coeficientes o utilizar una grafica, que muestre la figura o tendencia de los datos a continuación se muestra dicha grafica"
   ]
  },
  {
   "cell_type": "code",
   "execution_count": 17,
   "id": "adb9c2a0",
   "metadata": {},
   "outputs": [
    {
     "data": {
      "image/png": "[encoded data removed]",
      "text/plain": [
       "<Figure size 1440x720 with 1 Axes>"
      ]
     },
     "metadata": {
      "needs_background": "light"
     },
     "output_type": "display_data"
    }
   ],
   "source": [
    "np.random.seed(42)\n",
    "m = 100\n",
    "X = 6 * np.random.rand(m,1) - 3\n",
    "y = 0.5 * X**2 + X + 2 + np.random.rand(m,1)\n",
    "plt.figure(figsize=(20,10))\n",
    "plt.plot(X,y,\"c.\")\n",
    "plt.xlabel(\"X\")\n",
    "plt.ylabel(\"y\")\n",
    "plt.show()"
   ]
  },
  {
   "cell_type": "markdown",
   "id": "d9045a4d",
   "metadata": {},
   "source": [
    "Como se observa no es lineal, además de que en la celda anterior se genero los datos mediante una función polinomica de segundo grado, para realizar un modelo no lineal se debe utilizar *PolynomialFeatures* que ya viene implementado en **sklearn**, que lo unico que hace es agregar al vector de atributos el cuadrado de cada atributo y en caso de haber más de 1 atributo, agrega las combinaciones de los productos de estos, imagine que tiene un matriz de atributos Z\n",
    "\n",
    "$$ Z = \\; \n",
    "\\begin{bmatrix}\n",
    "      x_0 & y_0 \\\\\n",
    "      x_1 & y_1\n",
    "\\end{bmatrix} \n",
    "$$\n",
    "\n",
    "Se aplica polynomial features con grado de polinomio 2 y se obtiene:\n",
    "\n",
    "$$ Z = \\; \n",
    "\\begin{bmatrix}\n",
    "      x_0 & x_0^2 & y_0 & y_0^2 & x_0 y_0 \\\\\n",
    "      x_1 & x_1^2 & y_1 & y_0^2 & x_1 y_1\n",
    "\\end{bmatrix} \n",
    "$$\n",
    "\n",
    "El numero de atributos totales esta dado por la siguiente formula:\n",
    "\n",
    "$$ \\frac{(n+d)!}{n!d!} $$\n",
    "\n",
    "- $n$ es el número de atributos\n",
    "- $d$ el grado de polinomio\n",
    "\n",
    "Si tomamos en cuenta la matriz Z que inicialmente tiene 2 atributos y se transformo a polinomio grado 2, se obtiene:\n",
    "\n",
    "$$ \\frac{(2+2)!}{2!2!} = 6 $$"
   ]
  },
  {
   "cell_type": "code",
   "execution_count": 18,
   "id": "67845866",
   "metadata": {},
   "outputs": [
    {
     "data": {
      "text/plain": [
       "(array([-0.75275929]), array([-0.75275929,  0.56664654]))"
      ]
     },
     "execution_count": 18,
     "metadata": {},
     "output_type": "execute_result"
    }
   ],
   "source": [
    "from sklearn.preprocessing import PolynomialFeatures\n",
    "poly_features = PolynomialFeatures(degree=2,include_bias=False)\n",
    "X_poly = poly_features.fit_transform(X)\n",
    "X[0],X_poly[0]"
   ]
  },
  {
   "cell_type": "markdown",
   "id": "537cc8b8",
   "metadata": {},
   "source": [
    "Una vez que se ha transformado nuestra matriz, se procede a alimentar el objeto LinealRegression, con nuestra nueva matriz transformada."
   ]
  },
  {
   "cell_type": "code",
   "execution_count": 19,
   "id": "5ace5d1c",
   "metadata": {},
   "outputs": [
    {
     "data": {
      "text/plain": [
       "(array([2.49786712]), array([[0.9943591 , 0.49967213]]))"
      ]
     },
     "execution_count": 19,
     "metadata": {},
     "output_type": "execute_result"
    }
   ],
   "source": [
    "pol_reg = LinearRegression()\n",
    "pol_reg.fit(X_poly,y)\n",
    "pol_reg.intercept_,pol_reg.coef_"
   ]
  },
  {
   "cell_type": "markdown",
   "id": "89d97e2c",
   "metadata": {},
   "source": [
    "Como se observa se obtuvieron 3 coeficientes, el termino $\\theta_0$ siendo el intercepto, $\\theta_1$ y $\\theta_2$ en orden sucesivo, y si se observa detenidamente estos coinciden con aquellos que generaron el conjunto de datos, a continuación se realizan predicciones con este modelo, para ello primero se debe transformar los datos de igual manera que el entrenamiento"
   ]
  },
  {
   "cell_type": "code",
   "execution_count": 20,
   "id": "f7762fb5",
   "metadata": {},
   "outputs": [
    {
     "data": {
      "image/png": "[encoded data removed]",
      "text/plain": [
       "<Figure size 1440x720 with 1 Axes>"
      ]
     },
     "metadata": {
      "needs_background": "light"
     },
     "output_type": "display_data"
    }
   ],
   "source": [
    "x_p = np.linspace(-3,3,100)\n",
    "x_p = x_p.reshape(len(x_p),1)\n",
    "x_p_trans = poly_features.transform(x_p)\n",
    "\n",
    "y_p_predicts = pol_reg.predict(x_p_trans)\n",
    "\n",
    "plt.figure(figsize=(20,10))\n",
    "plt.plot(x_p,y_p_predicts,\"r-\")\n",
    "plt.plot(X,y,\"c.\")\n",
    "plt.xlabel(\"X\")\n",
    "plt.ylabel(\"y\")\n",
    "plt.title(\"Modele de regresion polinomica\")\n",
    "plt.show()  "
   ]
  },
  {
   "cell_type": "markdown",
   "id": "ed10f954",
   "metadata": {},
   "source": [
    "# Curvas de aprendizaje\n",
    "\n",
    "Estas curvas nos ayudan a demostras si nuestro modelo esta sobrepresentando(overfitting), no pudiendo representar los datos(underfitting) o es una bueno modelo, como se observa en la grafica anterior el modelo polinomial de segundo grado es adecuado para representar los datos y esto es obvio ademas puesto que fueron generados con una función del mismo grado."
   ]
  },
  {
   "cell_type": "code",
   "execution_count": 21,
   "id": "39bdfffb",
   "metadata": {},
   "outputs": [],
   "source": [
    "from sklearn.metrics import mean_squared_error\n",
    "from sklearn.model_selection import train_test_split\n",
    "\n",
    "def plot_learning_curves(model,X,y):\n",
    "    X_train,X_val,y_train,y_val = train_test_split(X,y,test_size=0.2)\n",
    "    train_errors, val_errors = [],[]\n",
    "    for m in range(1,len(X_train)):\n",
    "        model.fit(X_train[:m],y_train[:m])\n",
    "        y_train_pred = model.predict(X_train[:m])\n",
    "        y_val_pred = model.predict(X_val)\n",
    "        train_errors.append(mean_squared_error(y_train[:m],y_train_pred))\n",
    "        val_errors.append(mean_squared_error(y_val,y_val_pred))\n",
    "    plt.plot(np.sqrt(train_errors),\"r-+\",linewidth=2,label=\"Train\")\n",
    "    plt.plot(np.sqrt(val_errors),\"b-\",linewidth=3,label=\"Val\")\n",
    "    plt.ylim(0,3)"
   ]
  },
  {
   "cell_type": "code",
   "execution_count": 22,
   "id": "1a7e3b1a",
   "metadata": {},
   "outputs": [
    {
     "data": {
      "image/png": "[encoded data removed]",
      "text/plain": [
       "<Figure size 432x288 with 1 Axes>"
      ]
     },
     "metadata": {
      "needs_background": "light"
     },
     "output_type": "display_data"
    }
   ],
   "source": [
    "lin_reg = LinearRegression()\n",
    "plot_learning_curves(lin_reg,X,y)"
   ]
  },
  {
   "cell_type": "code",
   "execution_count": 23,
   "id": "829299d7",
   "metadata": {},
   "outputs": [
    {
     "data": {
      "image/png": "[encoded data removed]",
      "text/plain": [
       "<Figure size 432x288 with 1 Axes>"
      ]
     },
     "metadata": {
      "needs_background": "light"
     },
     "output_type": "display_data"
    }
   ],
   "source": [
    "from sklearn.pipeline import Pipeline\n",
    "\n",
    "polynomial_regression = Pipeline([\n",
    "    (\"poly_features\",PolynomialFeatures(degree=10,include_bias=False)),\n",
    "    (\"lin_reg\",LinearRegression())\n",
    "])\n",
    "\n",
    "\n",
    "plot_learning_curves(polynomial_regression,X,y)"
   ]
  },
  {
   "cell_type": "markdown",
   "id": "02ef4afb",
   "metadata": {},
   "source": [
    "# Softmax regression\n",
    "Primero se entrenara en un dataset pequeño de 4 instancias para ilustrar su funcionamiento, e imaginaremos que tenemos 3 clases, de momento nos brincaremos el paso de dividir nuestro dataset ya que es muy pequeño y también el hot-encoder, el primer paso es calcular el puntaje de cada clase, como se observa este primer paso es exactamente el mismo que que en regresión lineal, es realizar el producto de matrices de atributos($X$) por la matriz $\\Theta$ de pesos, donde cada clase tiene su propio $\\vec{\\theta^k}$\n",
    "\n",
    "$$ s_{k}(x) = X\\Theta $$\n",
    "\n",
    "Por tanto $\\Theta$ se ve de la siguiente manera, donde los valores inician de manera aleatoria, estos no serán aleatorios de primera instancia, para este expermiento\n",
    "\n",
    "$$ \\Theta = \\; \n",
    "\\begin{bmatrix}\n",
    "      \\theta_0^{(0)} & \\theta_0^{(1)} & \\theta_0^{(2)} \\\\\n",
    "      \\theta_1^{(0)} & \\theta_1^{(1)} & \\theta_1^{(2)} \\\\\n",
    "      \\theta_2^{(0)} & \\theta_2^{(1)} & \\theta_2^{(2)}\n",
    "\\end{bmatrix} \n",
    "$$\n",
    "\n",
    "- $X_d$ es la matriz de atributos\n",
    "- $y$ la matriz de resultados esperados\n",
    "esto con respecto a la siguiente celda"
   ]
  },
  {
   "cell_type": "code",
   "execution_count": 160,
   "id": "d626d5a8",
   "metadata": {},
   "outputs": [],
   "source": [
    "X_d = np.array([[0.1,0.5],[1.1,2.3],[-1.1,-2.3],[-1.5,-2.5]])\n",
    "X_d = np.c_[np.ones((4,1)),X_d]\n",
    "Theta = np.array([[0.01,0.1,0.1],[0.1,0.2,0.3],[0.1,0.2,0.3]])\n",
    "\n",
    "\n",
    "y = np.array([[0],[1],[2],[2]])"
   ]
  },
  {
   "cell_type": "markdown",
   "id": "b94d11a5",
   "metadata": {},
   "source": [
    "Una vez que se obtuvo la matriz $s_{k}(x)$ se procede a calcular las probabilidades, con la función softmax, definida de la siguiente manera\n",
    "\n",
    "$$  \\hat{p_k} = \\frac{exp(s_{k}(x))}{\\sum^{k}_{j=1} exp(s_{j}(x))} $$"
   ]
  },
  {
   "cell_type": "code",
   "execution_count": 162,
   "id": "47dea261",
   "metadata": {},
   "outputs": [
    {
     "data": {
      "text/plain": [
       "array([[ 0.07,  0.22,  0.28],\n",
       "       [ 0.35,  0.78,  1.12],\n",
       "       [-0.33, -0.58, -0.92],\n",
       "       [-0.39, -0.7 , -1.1 ]])"
      ]
     },
     "execution_count": 162,
     "metadata": {},
     "output_type": "execute_result"
    }
   ],
   "source": [
    "s_k = X_d.dot(Theta)\n",
    "#s_k_2 = Theta.T.dot(X_d.T).T\n",
    "s_k"
   ]
  },
  {
   "cell_type": "markdown",
   "id": "55fc288c",
   "metadata": {},
   "source": [
    "Calculemos las probabilidades aplicando la función aqui se demostrara para un para el primer renglón, además del como realiza la predicción este modelo\n",
    "\n",
    "\n",
    "$$\\hat{p_0} = \\frac{exp(0.07)}{exp(0.07)+exp(0.22)+exp(0.28)} = 0.2945063692$$\n",
    "\n",
    "$$\\hat{p_1} = \\frac{exp(0.22)}{exp(0.07)+exp(0.22)+exp(0.28)} = 0.3421675845 $$\n",
    "\n",
    "$$\\hat{p_2} = \\frac{exp(0.28)}{exp(0.07)+exp(0.22)+exp(0.28)} = 0.3633260463 $$\n",
    "\n",
    "Ahora se aplicará a toda la matriz"
   ]
  },
  {
   "cell_type": "code",
   "execution_count": 26,
   "id": "36518c0f",
   "metadata": {},
   "outputs": [],
   "source": [
    "def softmax(s_k):\n",
    "    exps = np.exp(s_k)\n",
    "    exps_sum = np.sum(exps,axis=1,keepdims=True)\n",
    "    return exps/exps_sum"
   ]
  },
  {
   "cell_type": "markdown",
   "id": "9b55712d",
   "metadata": {},
   "source": [
    "Para selecionar la predicción $\\hat{y}$ se selecciona la clase con mayor probabilidad, en el caso mencionado arriba este sería clasificado como clase la 3ra clase ya que la probabilidad $\\hat{p_2}$ es la mayor, sin embargo esto es erroneo, ya que al inicio se definio que este pertenece a la clase 0, a continuación se muestran las predicciones de las otras instancias, que de igual manera son incorrectas"
   ]
  },
  {
   "cell_type": "code",
   "execution_count": 27,
   "id": "e2d03f9e",
   "metadata": {},
   "outputs": [
    {
     "data": {
      "text/plain": [
       "array([2, 2, 0, 0], dtype=int64)"
      ]
     },
     "execution_count": 27,
     "metadata": {},
     "output_type": "execute_result"
    }
   ],
   "source": [
    "probablidades = softmax(s_k)\n",
    "np.argmax(probablidades,axis=1)"
   ]
  },
  {
   "cell_type": "markdown",
   "id": "dce07843",
   "metadata": {},
   "source": [
    "Antes de empezar a entrenar nuestro algoritmo debemos crear nuestra matriz de resultados esperados, esta debe tener la siguiente forma, 0s en las clases a las que no pertenece y 1 en la que pertence, así que el $\\vec{y}$ debe tomar esta nueva forma\n",
    "\n",
    "$$ y^{(i)}_k = \\; \n",
    "\\begin{bmatrix}\n",
    "      1 & 0 & 0 \\\\\n",
    "      0 & 1 & 0 \\\\\n",
    "      0 & 0 & 1 \\\\\n",
    "      0 & 0 & 1 \n",
    "\\end{bmatrix} \n",
    "$$\n",
    "\n",
    "donde originalmente tenía esta forma\n",
    "\n",
    "$$ y = \\; \n",
    "\\begin{bmatrix}\n",
    "0 \\\\ 1 \\\\ 2 \\\\ 2 \n",
    "\\end{bmatrix} \n",
    "$$\n",
    "\n",
    "Para ello podemos utilizar una herramienta que ya se encuentra implementada en **sklearn** y su nombre es hot-encoder, el cual realiza dicha transformación para nosotros"
   ]
  },
  {
   "cell_type": "code",
   "execution_count": 42,
   "id": "fee841c1",
   "metadata": {},
   "outputs": [
    {
     "data": {
      "text/plain": [
       "array([[1, 0, 0],\n",
       "       [1, 0, 0],\n",
       "       [1, 0, 0],\n",
       "       [1, 0, 0],\n",
       "       [1, 0, 0],\n",
       "       [1, 0, 0],\n",
       "       [1, 0, 0],\n",
       "       [1, 0, 0],\n",
       "       [1, 0, 0],\n",
       "       [1, 0, 0],\n",
       "       [1, 0, 0],\n",
       "       [1, 0, 0],\n",
       "       [1, 0, 0],\n",
       "       [1, 0, 0],\n",
       "       [1, 0, 0],\n",
       "       [1, 0, 0],\n",
       "       [1, 0, 0],\n",
       "       [1, 0, 0],\n",
       "       [1, 0, 0],\n",
       "       [1, 0, 0],\n",
       "       [1, 0, 0],\n",
       "       [1, 0, 0],\n",
       "       [1, 0, 0],\n",
       "       [1, 0, 0],\n",
       "       [1, 0, 0],\n",
       "       [1, 0, 0],\n",
       "       [1, 0, 0],\n",
       "       [1, 0, 0],\n",
       "       [1, 0, 0],\n",
       "       [1, 0, 0],\n",
       "       [1, 0, 0],\n",
       "       [1, 0, 0],\n",
       "       [1, 0, 0],\n",
       "       [1, 0, 0],\n",
       "       [1, 0, 0],\n",
       "       [1, 0, 0],\n",
       "       [1, 0, 0],\n",
       "       [1, 0, 0],\n",
       "       [1, 0, 0],\n",
       "       [1, 0, 0],\n",
       "       [1, 0, 0],\n",
       "       [1, 0, 0],\n",
       "       [1, 0, 0],\n",
       "       [1, 0, 0],\n",
       "       [1, 0, 0],\n",
       "       [1, 0, 0],\n",
       "       [1, 0, 0],\n",
       "       [1, 0, 0],\n",
       "       [1, 0, 0],\n",
       "       [1, 0, 0],\n",
       "       [0, 1, 0],\n",
       "       [0, 1, 0],\n",
       "       [0, 1, 0],\n",
       "       [0, 1, 0],\n",
       "       [0, 1, 0],\n",
       "       [0, 1, 0],\n",
       "       [0, 1, 0],\n",
       "       [0, 1, 0],\n",
       "       [0, 1, 0],\n",
       "       [0, 1, 0],\n",
       "       [0, 1, 0],\n",
       "       [0, 1, 0],\n",
       "       [0, 1, 0],\n",
       "       [0, 1, 0],\n",
       "       [0, 1, 0],\n",
       "       [0, 1, 0],\n",
       "       [0, 1, 0],\n",
       "       [0, 1, 0],\n",
       "       [0, 1, 0],\n",
       "       [0, 1, 0],\n",
       "       [0, 1, 0],\n",
       "       [0, 1, 0],\n",
       "       [0, 1, 0],\n",
       "       [0, 1, 0],\n",
       "       [0, 1, 0],\n",
       "       [0, 1, 0],\n",
       "       [0, 1, 0],\n",
       "       [0, 1, 0],\n",
       "       [0, 1, 0],\n",
       "       [0, 1, 0],\n",
       "       [0, 1, 0],\n",
       "       [0, 1, 0],\n",
       "       [0, 1, 0],\n",
       "       [0, 1, 0],\n",
       "       [0, 1, 0],\n",
       "       [0, 1, 0],\n",
       "       [0, 1, 0],\n",
       "       [0, 1, 0],\n",
       "       [0, 1, 0],\n",
       "       [0, 1, 0],\n",
       "       [0, 1, 0],\n",
       "       [0, 1, 0],\n",
       "       [0, 1, 0],\n",
       "       [0, 1, 0],\n",
       "       [0, 1, 0],\n",
       "       [0, 1, 0],\n",
       "       [0, 1, 0],\n",
       "       [0, 1, 0],\n",
       "       [0, 1, 0],\n",
       "       [0, 1, 0],\n",
       "       [0, 0, 1],\n",
       "       [0, 0, 1],\n",
       "       [0, 0, 1],\n",
       "       [0, 0, 1],\n",
       "       [0, 0, 1],\n",
       "       [0, 0, 1],\n",
       "       [0, 0, 1],\n",
       "       [0, 0, 1],\n",
       "       [0, 0, 1],\n",
       "       [0, 0, 1],\n",
       "       [0, 0, 1],\n",
       "       [0, 0, 1],\n",
       "       [0, 0, 1],\n",
       "       [0, 0, 1],\n",
       "       [0, 0, 1],\n",
       "       [0, 0, 1],\n",
       "       [0, 0, 1],\n",
       "       [0, 0, 1],\n",
       "       [0, 0, 1],\n",
       "       [0, 0, 1],\n",
       "       [0, 0, 1],\n",
       "       [0, 0, 1],\n",
       "       [0, 0, 1],\n",
       "       [0, 0, 1],\n",
       "       [0, 0, 1],\n",
       "       [0, 0, 1],\n",
       "       [0, 0, 1],\n",
       "       [0, 0, 1],\n",
       "       [0, 0, 1],\n",
       "       [0, 0, 1],\n",
       "       [0, 0, 1],\n",
       "       [0, 0, 1],\n",
       "       [0, 0, 1],\n",
       "       [0, 0, 1],\n",
       "       [0, 0, 1],\n",
       "       [0, 0, 1],\n",
       "       [0, 0, 1],\n",
       "       [0, 0, 1],\n",
       "       [0, 0, 1],\n",
       "       [0, 0, 1],\n",
       "       [0, 0, 1],\n",
       "       [0, 0, 1],\n",
       "       [0, 0, 1],\n",
       "       [0, 0, 1],\n",
       "       [0, 0, 1],\n",
       "       [0, 0, 1],\n",
       "       [0, 0, 1],\n",
       "       [0, 0, 1],\n",
       "       [0, 0, 1],\n",
       "       [0, 0, 1]])"
      ]
     },
     "execution_count": 42,
     "metadata": {},
     "output_type": "execute_result"
    }
   ],
   "source": [
    "from sklearn.preprocessing import LabelBinarizer\n",
    "encoder = LabelBinarizer()\n",
    "y_k = encoder.fit_transform(y)\n",
    "y_k"
   ]
  },
  {
   "cell_type": "markdown",
   "id": "395657a8",
   "metadata": {},
   "source": [
    "Para mejorar su capacidad de predicción se procederá a implementar su entrenamiento, para ello ocupamos su función de costo, siendo esta **Cross entropy** y su respectivo gradiente\n",
    "\n",
    "$$j(\\Theta) = -\\frac{1}{m} \\sum_{k=1}^{K}y_{k}^{(i)}log(\\hat{p}^{(i)}_{0})   $$\n",
    "\n",
    "$$\\nabla j(\\Theta) = \\frac{1}{m} \\sum_{k=1}^{K} (\\hat{p}^{(i)}_{k} - y^{(i)}_k) x^{(i)}   $$\n",
    "\n",
    "Iniciemos con una implementación sensilla con gradiente batch descendiente"
   ]
  },
  {
   "cell_type": "code",
   "execution_count": 29,
   "id": "e9dd2546",
   "metadata": {},
   "outputs": [
    {
     "name": "stdout",
     "output_type": "stream",
     "text": [
      "1.3215974919501436\n",
      "\n",
      "\n",
      "0.41413404975302054\n",
      "\n",
      "\n",
      "0.33657118391469987\n",
      "\n",
      "\n",
      "0.2922312585058528\n",
      "\n",
      "\n",
      "0.2588836401072254\n",
      "\n",
      "\n"
     ]
    },
    {
     "data": {
      "text/plain": [
       "array([[ 0.50103303, -0.29639853,  0.00536551],\n",
       "       [ 0.12982673,  0.78660343, -0.31643016],\n",
       "       [ 0.42830315,  1.17109779, -0.99940094]])"
      ]
     },
     "execution_count": 29,
     "metadata": {},
     "output_type": "execute_result"
    }
   ],
   "source": [
    "eta = 0.2 #learning rate\n",
    "n_iteration = 1000\n",
    "epsilon = 1e-7\n",
    "alpha = 0.1\n",
    "\n",
    "Theta = np.array([[0.01,0.1,0.1],[0.1,0.2,0.3],[0.1,0.2,0.3]])\n",
    "\n",
    "for iteration in range(n_iteration):\n",
    "    s_k = X_d.dot(Theta)\n",
    "    probs = softmax(s_k)\n",
    "    \n",
    "    if iteration % 200 == 0:\n",
    "        cross_entropy = -1/len(X_d)*(np.sum(y_k*np.log(probs+epsilon)))\n",
    "        print(cross_entropy)\n",
    "        print(\"\\n\")\n",
    "    \n",
    "    \n",
    "    \n",
    "    gradient = 1/m*X_d.T.dot(probs-y_k) \n",
    "    Theta = Theta - eta * gradient\n",
    "    \n",
    "    \n",
    "Theta"
   ]
  },
  {
   "cell_type": "markdown",
   "id": "df899845",
   "metadata": {},
   "source": [
    "Una vez entrenado nuestro modelo podemos volver a realizar predicciones, esto con el fin de demostrar que ha sido entrenado, como se observa ahora si clasifica correctamente las clases"
   ]
  },
  {
   "cell_type": "code",
   "execution_count": 30,
   "id": "a326d86e",
   "metadata": {},
   "outputs": [
    {
     "data": {
      "text/plain": [
       "(array([0, 1, 2, 2], dtype=int64),\n",
       " array([[0],\n",
       "        [1],\n",
       "        [2],\n",
       "        [2]]))"
      ]
     },
     "execution_count": 30,
     "metadata": {},
     "output_type": "execute_result"
    }
   ],
   "source": [
    "probablidades = softmax(s_k)\n",
    "np.argmax(probablidades,axis=1),y"
   ]
  },
  {
   "cell_type": "markdown",
   "id": "dcb4f3c6",
   "metadata": {},
   "source": [
    "Bien una vez que ya entendemos como implementarlo a minima escala, podemos usar un dataset, para comprobar que nuestro modelo es util, para ello se utilizará el dataset **iris flowers** este dataset puede ser importado mediante **sklearn**"
   ]
  },
  {
   "cell_type": "code",
   "execution_count": 31,
   "id": "4a9baace",
   "metadata": {
    "scrolled": true
   },
   "outputs": [
    {
     "data": {
      "text/plain": [
       "['data',\n",
       " 'target',\n",
       " 'frame',\n",
       " 'target_names',\n",
       " 'DESCR',\n",
       " 'feature_names',\n",
       " 'filename',\n",
       " 'data_module']"
      ]
     },
     "execution_count": 31,
     "metadata": {},
     "output_type": "execute_result"
    }
   ],
   "source": [
    "from sklearn import datasets\n",
    "iris = datasets.load_iris()\n",
    "list(iris.keys())"
   ]
  },
  {
   "cell_type": "markdown",
   "id": "9973fbaa",
   "metadata": {},
   "source": [
    "Para obtener el tamaño de la matriz $\\Theta$ necesitamos saber la cantidad de clases en este caso 3 clases, ya que hay 3 tipos de flores iris(virginica,setosa y versicolor) además de saber el numero de atributos en este caso se selecciono el largo y ancho de los petalos es decir 2, sin embargo se debe agregar el termino constante por tanto 3, entonces nuestra matriz es de 3x3, y se necesita crear el vector $y^{(i)}_k$"
   ]
  },
  {
   "cell_type": "code",
   "execution_count": 54,
   "id": "7829f5b0",
   "metadata": {
    "scrolled": true
   },
   "outputs": [],
   "source": [
    "X = iris[\"data\"][:,(2,3)]\n",
    "y = iris[\"target\"]\n",
    "clases = len(y_k[0,:])\n",
    "n_features = len(X_u[0,:])"
   ]
  },
  {
   "cell_type": "markdown",
   "id": "7db086ec",
   "metadata": {},
   "source": [
    "Una vez hecho todo lo anterior se procede a realizar la división del del dataset, para ello se utiliza la función train_split de **sklearn**"
   ]
  },
  {
   "cell_type": "code",
   "execution_count": 55,
   "id": "d7e869e7",
   "metadata": {},
   "outputs": [
    {
     "data": {
      "text/plain": [
       "(96, 30, 24)"
      ]
     },
     "execution_count": 55,
     "metadata": {},
     "output_type": "execute_result"
    }
   ],
   "source": [
    "X_train,X_test,y_train,y_test = train_test_split(X,y,test_size=0.2)\n",
    "X_train,X_val,y_train,y_val = train_test_split(X_train,y_train,test_size=0.2)\n",
    "\n",
    "len(X_train),len(X_test),len(X_val)"
   ]
  },
  {
   "cell_type": "markdown",
   "id": "59c46e4a",
   "metadata": {},
   "source": [
    "En esta celda se aplican las transformaciones necesarias para que los datos puedan operar correctamente en esta implementación, por ejemplo a $X$ se le agrega una columna de 1s y $y$ se transformar en la matriz de clases $\\vec{y}$"
   ]
  },
  {
   "cell_type": "code",
   "execution_count": 57,
   "id": "04161887",
   "metadata": {},
   "outputs": [],
   "source": [
    "X_train_u = np.c_[np.ones((len(X_train),1)),X_train]\n",
    "X_val_u = np.c_[np.ones((len(X_val),1)),X_val]\n",
    "X_test_u = np.c_[np.ones((len(X_test),1)),X_test]\n",
    "\n",
    "y_train_k = encoder.transform(y_train)\n",
    "y_test_k = encoder.transform(y_test)\n",
    "y_val_k = encoder.transform(y_val)"
   ]
  },
  {
   "cell_type": "markdown",
   "id": "8aaac135",
   "metadata": {},
   "source": [
    "# Implementación\n",
    "\n",
    "Para ello debemos definir algunos parametros estos son creados en la primer sección **(#1)** de la celda, posteriormente **(#2)** se crea una variable que se utilizará para implementar la funcionalidad de early stopping y se crea la matriz de pesos $\\Theta$ en la tercer sección **(#3)** inicia el el proceso de entrenamiento, para ello se realiza el cálculo de las probabilidades y mediante el gradiente de la función de costo se determina el nuevo valor de $\\Theta$, una vez hecho esto **(#4)** se procede a realizar predicciones en el set de validación, esto con el fin de implementar la función de **early stopping** de manera que el entrenamiento termine antes de que el modelo empiece a sobreajustarse(overfitting) a los datos de entranmiento, de manera que pueda generalizar de mejor forma, esto se realiza calculando el error sobre las preddiciones hechas sobre los datos de validación calculando el error del modelo sobre ellos, además se agregó regularización Rigde a la función de costo y al cálculo del gradiente, finalemente **(#5)** se determina si el error del de validación vuelve a crecer, esto se realiza en el segundo condicional de dicha sección, este parará automáticamente si el error empieza a crecer, ya que significaría que está empezando a haber un ligero sobreajuste y por tanto se detendría el entrenamiento"
   ]
  },
  {
   "cell_type": "code",
   "execution_count": 130,
   "id": "bb31f708",
   "metadata": {
    "scrolled": true
   },
   "outputs": [
    {
     "name": "stdout",
     "output_type": "stream",
     "text": [
      "0 1.5496960487481917\n",
      "500 0.5551642164417261\n",
      "1000 0.5288046743227075\n",
      "1500 0.5224698029563778\n",
      "2000 0.5207916173257219\n",
      "2500 0.5204968273710581\n",
      "2511 0.520496745589224\n",
      "2512 0.5204967465948884 early stopping!\n"
     ]
    },
    {
     "data": {
      "text/plain": [
       "array([[ 4.69625759,  1.0335971 , -4.0860241 ],\n",
       "       [-1.08254628,  0.15197679,  0.93056949],\n",
       "       [-0.42964218, -0.19251909,  0.62216127]])"
      ]
     },
     "execution_count": 130,
     "metadata": {},
     "output_type": "execute_result"
    }
   ],
   "source": [
    "#1 \n",
    "eta = 0.1 #learning rate\n",
    "n_iteration = 10000\n",
    "epsilon = 1e-7\n",
    "alpha = 0.1\n",
    "m = len(X_train)\n",
    "\n",
    "#2\n",
    "best_error = float(\"inf\")\n",
    "Theta = np.random.random((clases,n_features))\n",
    "\n",
    "\n",
    "#3\n",
    "for iteration in range(n_iteration):\n",
    "    \n",
    "    s_k = X_train_u.dot(Theta)\n",
    "    probs = softmax(s_k)\n",
    "    gradient = 1/m*X_train_u.T.dot(probs-y_train_k) + np.r_[np.zeros([1, 3]), alpha * Theta[1:]]\n",
    "    Theta = Theta - eta * gradient \n",
    "\n",
    "    #4\n",
    "    s_k_val = X_val_u.dot(Theta)\n",
    "    probs_val = softmax(s_k_val)\n",
    "    cross_entropy = -np.mean(np.sum(y_val_k * np.log(probs_val + epsilon),axis=1)) \n",
    "    l2_regularization = 1/2 * np.sum(np.square(Theta[1:]))\n",
    "    val_error = cross_entropy + alpha*l2_regularization    \n",
    "    \n",
    "    #5\n",
    "    if iteration % 500 == 0:\n",
    "        print(iteration, val_error)\n",
    "    if val_error < best_error:\n",
    "        best_error = val_error\n",
    "    else:\n",
    "        print(iteration - 1, best_error)\n",
    "        print(iteration, val_error, \"early stopping!\")\n",
    "        break\n",
    "Theta"
   ]
  },
  {
   "cell_type": "markdown",
   "id": "40511535",
   "metadata": {},
   "source": [
    "# Resultados\n",
    "\n",
    "Para ver si nuestro modelo está realizando su trabajo podemos utilizar alguna función que nos permita medir el error al momento de realizar predicciones, una de ellas es la confussion matrix, la cual en nos indica la clase actual del dato y la predicción, así como se muestra en la siguiente imagen, los mejores modelos tendrán la diagonal principal de la matriz con valores altos y pocos valores a la periféria, o tambien utilizar las medidas de presición y recall\n",
    "\n",
    "<img src=\"https://miro.medium.com/max/1400/1*TOVAm14q2GsAnx8q79nQlQ.png\" />"
   ]
  },
  {
   "cell_type": "code",
   "execution_count": 150,
   "id": "390a2a3e",
   "metadata": {},
   "outputs": [
    {
     "name": "stdout",
     "output_type": "stream",
     "text": [
      "Precisión: 0.9791666666666666\n",
      "Recall: 0.9791666666666666\n",
      "[[30  0  0]\n",
      " [ 0 33  1]\n",
      " [ 0  1 31]]\n"
     ]
    }
   ],
   "source": [
    "from sklearn.metrics import confusion_matrix,precision_score,recall_score\n",
    "Preds_en_X_train = np.argmax(X_train_u.dot(Theta),axis=1)\n",
    "\n",
    "print(f\"Precisión: {precision_score(Preds_en_X_train,y_train,average='micro')}\")\n",
    "\n",
    "print(f\"Recall: {recall_score(Preds_en_X_train,y_train,average='micro')}\")\n",
    "\n",
    "print(confusion_matrix(Preds_en_X_train,y_train))"
   ]
  },
  {
   "cell_type": "code",
   "execution_count": 151,
   "id": "45cdd496",
   "metadata": {},
   "outputs": [
    {
     "name": "stdout",
     "output_type": "stream",
     "text": [
      "Precisión: 1.0\n",
      "Recall: 1.0\n",
      "[[8 0 0]\n",
      " [0 8 0]\n",
      " [0 0 8]]\n"
     ]
    }
   ],
   "source": [
    "Preds_en_X_val = np.argmax(X_val_u.dot(Theta),axis=1)\n",
    "\n",
    "\n",
    "print(f\"Precisión: {recall_score(Preds_en_X_val,y_val,average='micro')}\")\n",
    "\n",
    "print(f\"Recall: {precision_score(Preds_en_X_val,y_val,average='micro')}\")\n",
    "\n",
    "print(confusion_matrix(Preds_en_X_val,y_val))"
   ]
  },
  {
   "cell_type": "markdown",
   "id": "5d652fa0",
   "metadata": {},
   "source": [
    "# Modelo final\n",
    "\n",
    "Podemos utilizar los datos prueba y ver su desempeño en instancias que jamás ha visto, estos datos no deben ser tocados para nada, solo cuando consideramos que el modelo está listo, como se observa tiene un desempeño regular, si bien no es perfecto, un 90% de estos valores es bastante bueno."
   ]
  },
  {
   "cell_type": "code",
   "execution_count": 152,
   "id": "93bf7745",
   "metadata": {},
   "outputs": [
    {
     "name": "stdout",
     "output_type": "stream",
     "text": [
      "Precisión: 0.9\n",
      "Recall: 0.9\n",
      "[[12  0  0]\n",
      " [ 0  6  1]\n",
      " [ 0  2  9]]\n"
     ]
    }
   ],
   "source": [
    "Preds_en_X_test = np.argmax(X_test_u.dot(Theta),axis=1)\n",
    "\n",
    "print(f\"Precisión: {precision_score(Preds_en_X_test,y_test,average='micro')}\")\n",
    "\n",
    "print(f\"Recall: {recall_score(Preds_en_X_test,y_test,average='micro')}\")\n",
    "\n",
    "print(confusion_matrix(Preds_en_X_test,y_test))\n",
    "\n"
   ]
  }
 ],
 "metadata": {
  "kernelspec": {
   "display_name": "Python 3 (ipykernel)",
   "language": "python",
   "name": "python3"
  },
  "language_info": {
   "codemirror_mode": {
    "name": "ipython",
    "version": 3
   },
   "file_extension": ".py",
   "mimetype": "text/x-python",
   "name": "python",
   "nbconvert_exporter": "python",
   "pygments_lexer": "ipython3",
   "version": "3.9.1"
  }
 },
 "nbformat": 4,
 "nbformat_minor": 5
}
