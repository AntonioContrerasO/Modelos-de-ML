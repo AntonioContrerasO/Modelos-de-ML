{
 "cells": [
  {
   "cell_type": "markdown",
   "id": "c7ff1f45",
   "metadata": {},
   "source": [
    "# Modelos de entranamiento\n",
    "\n",
    "En este cuaderno se expondrá algunos modelos, como se realiza su entrenamiento y nociones basicas de machine learning, esto con el fin de saber seleccionar un modelo adecuado para cada situación, además de que conocer sobre dichos modelos ayuda a solucionar problemas que puedan presentarse durante el entrenamiento.\n",
    "\n",
    "Muchos de estos modelos se encuentran implementados en **scklearn**, por lo que cuando se busque realiar un modelo no es necesario implementar desde cero los modelos\n"
   ]
  },
  {
   "cell_type": "markdown",
   "id": "9b716385",
   "metadata": {},
   "source": [
    "# Regresión lineal\n",
    "\n",
    "Este modelo del machine learning realiza prediciones simplemente mediante el producto punto del vector de los pesos($\\overrightarrow{\\theta}$) por los atributos($\\overrightarrow{x}$) así como se muestra en la siguiente ecuación\n",
    "\n",
    "$$ \\hat{y} = \\theta_0 + \\theta_1 x_1 + ... + \\theta_{n-1} x_{n-1} + \\theta_n x_n $$\n",
    "\n",
    "- $\\hat{y}$ es la predicción.\n",
    "- $n$ es el numero de atributos.\n",
    "- $x_i$ es el i-enesimo atributo.\n",
    "- $\\theta_i$ es el i-enesimo peso donde $\\theta_0$ es el termino constante, y los demas son los pesos de cada atributo, es decir, que tanto aporta a nuestra predicción dicho atributo.\n",
    "\n",
    "Todos los modelos de machine learning utilizan funciones conocidas como **funciones de costo** que indican que tan bien o mal está realizando su trabajo el modelo, que dependiendo del tipo de modelo existen varias funciones de costo que pueden utilizarse para este fin, especificamente en regresión lineal se utiliza el **MAE**, el **RMSE** y el **MSE**, aunque debido a que ambas llevan al mismo resultado se prefiere el MSE, ya que resulta más fácil de *minimizar*.\n",
    "\n",
    "$$MSE(\\theta)=\\frac{1}{m}\\sum_{i=1}^{m}(\\theta x^{(i)}-y^{(i)})^{2}$$\n",
    "\n",
    "el vector $x^{(i)}$ se ve de la siguiente manera, sin embargo hay que considerar que no necesariamente debe tener 4 entradas\n",
    "\n",
    "$$ x^{(i)} = \\; \n",
    "\\begin{bmatrix}\n",
    "      -118.23 \\\\\n",
    "      33.91 \\\\\n",
    "      1.31 \\\\\n",
    "      38.37\n",
    "\\end{bmatrix} \n",
    "$$\n",
    "\n",
    "**Nota:** Con minimizar se refiere a obtener el menor valor posible de dicha función, o desde la vista del calculo encontrar el minimo de la función."
   ]
  },
  {
   "cell_type": "markdown",
   "id": "bdb960c5",
   "metadata": {},
   "source": [
    "# Ecuación normal\n",
    "\n",
    "Algunos algoritmos de machine learning cuentan con ecuaciones las cuales permiten encontrar el valor de $\\theta$ que minimiza la funcion de costo y da el resultado de manera directa, en el caso de regresión lineal esta ecuación se conoce como **ecuación normal**\n",
    "\n",
    "$$\\hat{\\theta} = (X^{T} X) X^{T} y $$\n",
    "\n",
    "A continuación se muestra su implementación en python"
   ]
  },
  {
   "cell_type": "code",
   "execution_count": 3,
   "id": "71261dab",
   "metadata": {},
   "outputs": [],
   "source": [
    "import numpy as np\n",
    "import matplotlib.pyplot as plt\n",
    "\n",
    "X = 2*np.random.rand(100,1)\n",
    "y = 4 + 3*X +np.random.rand(100,1)"
   ]
  },
  {
   "cell_type": "markdown",
   "id": "a8a20683",
   "metadata": {},
   "source": [
    "Primero se crearon algunos dato lineales con algo de ruido, y en la siguiente celda se realizo un grafico de dichos datos"
   ]
  },
  {
   "cell_type": "code",
   "execution_count": 4,
   "id": "84bdaa94",
   "metadata": {
    "scrolled": false
   },
   "outputs": [
    {
     "data": {
      "image/png": "[encoded data removed]",
      "text/plain": [
       "<Figure size 432x288 with 1 Axes>"
      ]
     },
     "metadata": {
      "needs_background": "light"
     },
     "output_type": "display_data"
    }
   ],
   "source": [
    "plt.scatter(X,y,s=4)\n",
    "plt.show()"
   ]
  },
  {
   "cell_type": "markdown",
   "id": "5cbf21be",
   "metadata": {},
   "source": [
    "Antes de utilzar la ecuación se necesita agregar una columna de unos del mismo largo de instacncias en X, esto se realizar en la primera línea de codigo del siguiente bloque, esto es así ya que esta ecuación proviene del problema de minimos cuadrados, donde se tienen ecuaciones del siguiente estilo\n",
    "\n",
    "$$  y = \\theta_0 + \\theta_1 x_1  $$\n",
    "\n",
    "Utilizando los valores de $y$ y $x$, provenientes del vector de soluciones y de atributos respectivamente. Por ejemplo digamos que tenemos un atributo y 3 instancias, siendo las instancias de la forma  $(x,y)$ estas son $(1,5)$, $(2,3)$,$(3,7)$, entonces se obtienen las siguientes 3 ecuaciones  \n",
    "\n",
    "$$ \\theta_0 + \\theta_1 = 5   $$\n",
    "$$ \\theta_0 + 2\\theta_1 = 3   $$\n",
    "$$ \\theta_0 + 3\\theta_1 = 7  $$\n",
    "\n",
    "Si observamos detenidamente los valores que multiplican a $\\theta_0$ son 1 para todos los casos, por lo que como se menciono se debe agregar como se hace en la primer linea, para que pueda funcionar correctamente el algoritmo"
   ]
  },
  {
   "cell_type": "code",
   "execution_count": 8,
   "id": "275c5182",
   "metadata": {},
   "outputs": [],
   "source": [
    "X_b = np.c_[np.ones((100,1)),X]\n",
    "theta_best = np.linalg.inv(X_b.T.dot(X_b)).dot(X_b.T).dot(y)"
   ]
  },
  {
   "cell_type": "markdown",
   "id": "bb977002",
   "metadata": {},
   "source": [
    "#### Valores que minimizan la función de costo"
   ]
  },
  {
   "cell_type": "code",
   "execution_count": 7,
   "id": "b1c4b6ef",
   "metadata": {
    "scrolled": true
   },
   "outputs": [
    {
     "data": {
      "text/plain": [
       "array([[4.56350524],\n",
       "       [2.95824988]])"
      ]
     },
     "execution_count": 7,
     "metadata": {},
     "output_type": "execute_result"
    }
   ],
   "source": [
    "theta_best"
   ]
  },
  {
   "cell_type": "markdown",
   "id": "982e7a91",
   "metadata": {},
   "source": [
    "En la siguiente celda se realizan predicciones con el modelo entrenado"
   ]
  },
  {
   "cell_type": "code",
   "execution_count": 12,
   "id": "83aef0ba",
   "metadata": {},
   "outputs": [
    {
     "data": {
      "text/plain": [
       "array([[ 4.56350524],\n",
       "       [10.48000499]])"
      ]
     },
     "execution_count": 12,
     "metadata": {},
     "output_type": "execute_result"
    }
   ],
   "source": [
    "X_new = np.array([[0],[2]])\n",
    "X_new_b = np.c_[np.ones((2,1)),X_new]\n",
    "y_predict = X_new_b.dot(theta_best)\n",
    "y_predict"
   ]
  },
  {
   "cell_type": "markdown",
   "id": "015d6d86",
   "metadata": {},
   "source": [
    "Con el modelo entrenado, podemos graficar las predicciones hechas por el mismo y observar si es un buen modelo"
   ]
  },
  {
   "cell_type": "code",
   "execution_count": 22,
   "id": "6562cbd8",
   "metadata": {
    "scrolled": true
   },
   "outputs": [
    {
     "data": {
      "image/png": "[encoded data removed]",
      "text/plain": [
       "<Figure size 432x288 with 1 Axes>"
      ]
     },
     "metadata": {
      "needs_background": "light"
     },
     "output_type": "display_data"
    }
   ],
   "source": [
    "plt.plot(X_new,y_predict,\"r-\")\n",
    "plt.plot(X,y,\"b.\")\n",
    "plt.title(\"Modelo de regresión lineal\")\n",
    "plt.axis([0,2,2,12])\n",
    "plt.xlabel(\"X\")\n",
    "plt.ylabel(\"y\")\n",
    "plt.show()"
   ]
  },
  {
   "cell_type": "markdown",
   "id": "f6887c86",
   "metadata": {},
   "source": [
    "# Implementación con sklearn\n",
    "\n",
    "Como se menciono sklearn es una libreria que tiene varios modelos y herramientas para machine learning, que resultan bastante simples de utilizar, solo es necesario importar aquello que queremos utilizar y entrenar nuestro modelo, para ello se crea un objeto con nuestro modelo, en este caso regresión lineal, y se utiliza el metodo *fit()* que realiza el entrenamiento, el objeto LinearRegression se basa en la ecuación normal, por ello nos entregan los mismo valores"
   ]
  },
  {
   "cell_type": "code",
   "execution_count": 23,
   "id": "dcb02af3",
   "metadata": {},
   "outputs": [
    {
     "data": {
      "text/plain": [
       "(array([4.56350524]), array([[2.95824988]]))"
      ]
     },
     "execution_count": 23,
     "metadata": {},
     "output_type": "execute_result"
    }
   ],
   "source": [
    "from sklearn.linear_model import LinearRegression\n",
    "\n",
    "lin_reg = LinearRegression()\n",
    "lin_reg.fit(X,y)\n",
    "\n",
    "lin_reg.intercept_,lin_reg.coef_"
   ]
  },
  {
   "cell_type": "code",
   "execution_count": 24,
   "id": "b1dbbb0c",
   "metadata": {},
   "outputs": [
    {
     "data": {
      "text/plain": [
       "array([[ 4.56350524],\n",
       "       [10.48000499]])"
      ]
     },
     "execution_count": 24,
     "metadata": {},
     "output_type": "execute_result"
    }
   ],
   "source": [
    "lin_reg.predict(X_new)"
   ]
  }
 ],
 "metadata": {
  "kernelspec": {
   "display_name": "Python 3 (ipykernel)",
   "language": "python",
   "name": "python3"
  },
  "language_info": {
   "codemirror_mode": {
    "name": "ipython",
    "version": 3
   },
   "file_extension": ".py",
   "mimetype": "text/x-python",
   "name": "python",
   "nbconvert_exporter": "python",
   "pygments_lexer": "ipython3",
   "version": "3.9.1"
  }
 },
 "nbformat": 4,
 "nbformat_minor": 5
}
